{
 "cells": [
  {
   "cell_type": "code",
   "execution_count": 1,
   "id": "07e63c9e-9352-4f50-a43d-0021a699851b",
   "metadata": {},
   "outputs": [
    {
     "name": "stdin",
     "output_type": "stream",
     "text": [
      "What is your prime number: 100\n"
     ]
    },
    {
     "name": "stdout",
     "output_type": "stream",
     "text": [
      "2 3 5 7 11 13 17 19 23 29 31 37 41 43 47 53 59 61 67 71 73 79 83 89 97 "
     ]
    }
   ],
   "source": [
    "#Write a program that asks the user for to input an integer and will print all prime numbers between 2 and the inputted number.\n",
    "n = int(input(\"What is your prime number:\"))\n",
    "\n",
    "for i in range (2, n+1):\n",
    "    prime = True\n",
    "    for j in range (2, i): \n",
    "        if i % j == 0:\n",
    "            prime = False\n",
    "            break\n",
    "    if prime:\n",
    "        print(i, end=\" \")\n",
    "    "
   ]
  },
  {
   "cell_type": "code",
   "execution_count": null,
   "id": "7e4d268e-a1cc-4393-9c2e-6813bd4ff5f0",
   "metadata": {},
   "outputs": [],
   "source": [
    "# Write a program that asks the user to input an integer number of rows, and will print a Pascal’s Triangle with that many rows. \n",
    "n = int(input(\"How many rows do you want:\"))\n",
    "first_row = [[1]]\n",
    "\n",
    "for i in range(1, n + 1): \n",
    "    new_row = [1]\n",
    "    for j in range(1, i + 1):\n",
    "        print(n, end=\" \")\n",
    "        \n"
   ]
  }
 ],
 "metadata": {
  "kernelspec": {
   "display_name": "Python 3 (ipykernel)",
   "language": "python",
   "name": "python3"
  },
  "language_info": {
   "codemirror_mode": {
    "name": "ipython",
    "version": 3
   },
   "file_extension": ".py",
   "mimetype": "text/x-python",
   "name": "python",
   "nbconvert_exporter": "python",
   "pygments_lexer": "ipython3",
   "version": "3.11.5"
  }
 },
 "nbformat": 4,
 "nbformat_minor": 5
}
